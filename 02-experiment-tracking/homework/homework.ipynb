{
 "cells": [
  {
   "cell_type": "markdown",
   "id": "b40e3f93",
   "metadata": {},
   "source": [
    "# Homework Section 2 - Experiment Tracking\n",
    "I think I did HW for 2025 instead of 2022..."
   ]
  },
  {
   "cell_type": "markdown",
   "id": "c5a983da",
   "metadata": {},
   "source": [
    "### Problem 1"
   ]
  },
  {
   "cell_type": "code",
   "execution_count": 2,
   "id": "bfed4e6c",
   "metadata": {},
   "outputs": [
    {
     "name": "stdout",
     "output_type": "stream",
     "text": [
      "mlflow, version 1.26.1\n"
     ]
    }
   ],
   "source": [
    "import mlflow\n",
    "!mlflow --version"
   ]
  },
  {
   "cell_type": "markdown",
   "id": "a661760d",
   "metadata": {},
   "source": [
    "### Problem 2"
   ]
  },
  {
   "cell_type": "markdown",
   "id": "428e8f09",
   "metadata": {},
   "source": [
    "![\"Problem 2 Work\"](./Screenshot 2025-09-22 at 9.39.21 PM.png)"
   ]
  },
  {
   "cell_type": "markdown",
   "id": "13911af7",
   "metadata": {},
   "source": [
    "It's 4 (C, or third option)"
   ]
  },
  {
   "cell_type": "markdown",
   "id": "7d16f67c",
   "metadata": {},
   "source": [
    "### Problem 3"
   ]
  },
  {
   "cell_type": "markdown",
   "id": "5dd4686d",
   "metadata": {},
   "source": [
    "It's 2 (A, or first option)"
   ]
  },
  {
   "cell_type": "markdown",
   "id": "1d63c419",
   "metadata": {},
   "source": [
    "### Problem 4"
   ]
  },
  {
   "cell_type": "markdown",
   "id": "997db6e5",
   "metadata": {},
   "source": [
    "It's `--default-artifacts-root` (A, or first option)"
   ]
  },
  {
   "cell_type": "markdown",
   "id": "ff3fb83e",
   "metadata": {},
   "source": [
    "### Problem 5"
   ]
  },
  {
   "cell_type": "markdown",
   "id": "8c6093a5",
   "metadata": {},
   "source": [
    "Answer doesn't match any of the options (5.628).\\\n",
    "Closest is 5.818 (C, or third option)."
   ]
  },
  {
   "cell_type": "markdown",
   "id": "b9d1399b",
   "metadata": {},
   "source": [
    "### Problem 6"
   ]
  },
  {
   "cell_type": "markdown",
   "id": "2861aaf8",
   "metadata": {},
   "source": [
    "Answer doesn't match any of the options (5.834).\\\n",
    "Closest is 6.061 (C, or third option)."
   ]
  },
  {
   "cell_type": "markdown",
   "id": "00506b80",
   "metadata": {},
   "source": []
  }
 ],
 "metadata": {
  "kernelspec": {
   "display_name": "exp-tracking",
   "language": "python",
   "name": "python3"
  },
  "language_info": {
   "codemirror_mode": {
    "name": "ipython",
    "version": 3
   },
   "file_extension": ".py",
   "mimetype": "text/x-python",
   "name": "python",
   "nbconvert_exporter": "python",
   "pygments_lexer": "ipython3",
   "version": "3.9.12"
  }
 },
 "nbformat": 4,
 "nbformat_minor": 5
}
