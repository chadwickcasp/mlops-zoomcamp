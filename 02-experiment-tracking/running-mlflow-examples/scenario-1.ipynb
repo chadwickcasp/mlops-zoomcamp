{
 "cells": [
  {
   "cell_type": "markdown",
   "id": "34a1a523",
   "metadata": {},
   "source": [
    "# Scenario 1: A single data scientist participating in an ML competition\n",
    "\n",
    "MLFlow setup:\n",
    "- Tracking server: no\n",
    "- Backend store: local filesystem\n",
    "- Artifacts store: local filesystem\n",
    "\n",
    "The experiments can be explored locally by exploring the MLFlow UI"
   ]
  },
  {
   "cell_type": "code",
   "execution_count": 2,
   "id": "580ee309",
   "metadata": {},
   "outputs": [],
   "source": [
    "import mlflow"
   ]
  },
  {
   "cell_type": "code",
   "execution_count": 3,
   "id": "0731dea2",
   "metadata": {},
   "outputs": [
    {
     "name": "stdout",
     "output_type": "stream",
     "text": [
      "tracking URI: file:///Users/chadcasper/Documents/MLOps%20Zoomcamp/mlops-zoomcamp/02-experiment-tracking/running-mlflow-examples/mlruns\n"
     ]
    }
   ],
   "source": [
    "print(f\"tracking URI: {mlflow.get_tracking_uri()}\")"
   ]
  },
  {
   "cell_type": "code",
   "execution_count": 4,
   "id": "a058903a",
   "metadata": {},
   "outputs": [
    {
     "data": {
      "text/plain": [
       "[<Experiment: artifact_location='file:///Users/chadcasper/Documents/MLOps%20Zoomcamp/mlops-zoomcamp/02-experiment-tracking/running-mlflow-examples/mlruns/0', experiment_id='0', lifecycle_stage='active', name='Default', tags={}>]"
      ]
     },
     "execution_count": 4,
     "metadata": {},
     "output_type": "execute_result"
    }
   ],
   "source": [
    "mlflow.list_experiments()"
   ]
  },
  {
   "cell_type": "code",
   "execution_count": 5,
   "id": "f030deb6",
   "metadata": {},
   "outputs": [
    {
     "name": "stderr",
     "output_type": "stream",
     "text": [
      "2025/09/09 20:09:03 INFO mlflow.tracking.fluent: Experiment with name 'my-experiment-1' does not exist. Creating a new experiment.\n"
     ]
    },
    {
     "name": "stdout",
     "output_type": "stream",
     "text": [
      "get default artifacts URI: file:///Users/chadcasper/Documents/MLOps%20Zoomcamp/mlops-zoomcamp/02-experiment-tracking/running-mlflow-examples/mlruns/1/6fc22eb791c94c02a1a5ce214d360ff2/artifacts\n"
     ]
    },
    {
     "name": "stderr",
     "output_type": "stream",
     "text": [
      "/Users/chadcasper/.pyenv/versions/miniforge3-4.10.3-10/envs/exp-tracking/lib/python3.9/site-packages/_distutils_hack/__init__.py:30: UserWarning: Setuptools is replacing distutils.\n",
      "  warnings.warn(\"Setuptools is replacing distutils.\")\n"
     ]
    }
   ],
   "source": [
    "from sklearn.linear_model import LogisticRegression\n",
    "from sklearn.datasets import load_iris\n",
    "from sklearn.metrics import accuracy_score\n",
    "\n",
    "mlflow.set_experiment('my-experiment-1')\n",
    "\n",
    "with mlflow.start_run():\n",
    "    X, y = load_iris(return_X_y=True)\n",
    "\n",
    "    params = {\"C\":0.1, \"random_state\":42}\n",
    "    mlflow.log_params(params)\n",
    "\n",
    "    lr = LogisticRegression(**params).fit(X, y)\n",
    "    y_pred = lr.predict(X)\n",
    "    mlflow.log_metric(\"accuracy\", accuracy_score(y, y_pred))\n",
    "\n",
    "    mlflow.sklearn.log_model(lr, artifact_path=\"models\")\n",
    "    print(f\"get default artifacts URI: {mlflow.get_artifact_uri()}\")"
   ]
  },
  {
   "cell_type": "code",
   "execution_count": 6,
   "id": "3d779b2a",
   "metadata": {},
   "outputs": [
    {
     "data": {
      "text/plain": [
       "[<Experiment: artifact_location='file:///Users/chadcasper/Documents/MLOps%20Zoomcamp/mlops-zoomcamp/02-experiment-tracking/running-mlflow-examples/mlruns/0', experiment_id='0', lifecycle_stage='active', name='Default', tags={}>,\n",
       " <Experiment: artifact_location='file:///Users/chadcasper/Documents/MLOps%20Zoomcamp/mlops-zoomcamp/02-experiment-tracking/running-mlflow-examples/mlruns/1', experiment_id='1', lifecycle_stage='active', name='my-experiment-1', tags={}>]"
      ]
     },
     "execution_count": 6,
     "metadata": {},
     "output_type": "execute_result"
    }
   ],
   "source": [
    "mlflow.list_experiments()"
   ]
  },
  {
   "cell_type": "code",
   "execution_count": 9,
   "id": "eb6b6254",
   "metadata": {},
   "outputs": [],
   "source": [
    "from mlflow.tracking import MlflowClient\n",
    "\n",
    "client = MlflowClient()"
   ]
  },
  {
   "cell_type": "code",
   "execution_count": 10,
   "id": "a496d1a1",
   "metadata": {},
   "outputs": [
    {
     "name": "stdout",
     "output_type": "stream",
     "text": [
      "It's not possible to access the model registry :(\n"
     ]
    }
   ],
   "source": [
    "from mlflow.exceptions import MlflowException\n",
    "\n",
    "try:\n",
    "    client.list_registered_models()\n",
    "except MlflowException as e:\n",
    "    print(\"It's not possible to access the model registry :(\")"
   ]
  },
  {
   "cell_type": "code",
   "execution_count": null,
   "id": "2a1a5ace",
   "metadata": {},
   "outputs": [],
   "source": []
  }
 ],
 "metadata": {
  "kernelspec": {
   "display_name": "exp-tracking",
   "language": "python",
   "name": "python3"
  },
  "language_info": {
   "codemirror_mode": {
    "name": "ipython",
    "version": 3
   },
   "file_extension": ".py",
   "mimetype": "text/x-python",
   "name": "python",
   "nbconvert_exporter": "python",
   "pygments_lexer": "ipython3",
   "version": "3.9.12"
  }
 },
 "nbformat": 4,
 "nbformat_minor": 5
}
