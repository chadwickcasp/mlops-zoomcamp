{
 "cells": [
  {
   "cell_type": "markdown",
   "id": "34a1a523",
   "metadata": {},
   "source": [
    "# Scenario 2: A single data scientist participating in an ML competition\n",
    "\n",
    "MLFlow setup:\n",
    "- Tracking server: yes, local server\n",
    "- Backend store: sqlite database\n",
    "- Artifacts store: local filesystem\n",
    "\n",
    "The experiments can be explored locally by accessing the local tracking server\n",
    "\n",
    "To run this example you need to launch the mlflow server locally by running the following command in the terminal:\n",
    "\n",
    "mlflow server --backend-store-uri sqlite:///backend.db --default-artifact-root ./artifacts_local"
   ]
  },
  {
   "cell_type": "code",
   "execution_count": 30,
   "id": "580ee309",
   "metadata": {},
   "outputs": [],
   "source": [
    "import mlflow\n",
    "\n",
    "mlflow.set_tracking_uri('http://127.0.0.1:5000')"
   ]
  },
  {
   "cell_type": "code",
   "execution_count": 31,
   "id": "2a1a5ace",
   "metadata": {},
   "outputs": [
    {
     "name": "stdout",
     "output_type": "stream",
     "text": [
      "get tracking uri: http://127.0.0.1:5000\n"
     ]
    }
   ],
   "source": [
    "print(f\"get tracking uri: {mlflow.get_tracking_uri()}\")"
   ]
  },
  {
   "cell_type": "code",
   "execution_count": 32,
   "id": "33418cfe",
   "metadata": {},
   "outputs": [
    {
     "data": {
      "text/plain": [
       "[<Experiment: artifact_location='./artifacts_local/0', experiment_id='0', lifecycle_stage='active', name='Default', tags={}>]"
      ]
     },
     "execution_count": 32,
     "metadata": {},
     "output_type": "execute_result"
    }
   ],
   "source": [
    "mlflow.list_experiments()"
   ]
  },
  {
   "cell_type": "code",
   "execution_count": 33,
   "id": "6052dc91",
   "metadata": {},
   "outputs": [
    {
     "name": "stderr",
     "output_type": "stream",
     "text": [
      "2025/09/16 21:38:00 INFO mlflow.tracking.fluent: Experiment with name 'my-experiment-1' does not exist. Creating a new experiment.\n"
     ]
    },
    {
     "name": "stdout",
     "output_type": "stream",
     "text": [
      "get default artifacts URI: ./artifacts_local/1/577dc6a6d2f34986ad463966c3dbbb16/artifacts\n"
     ]
    }
   ],
   "source": [
    "from sklearn.linear_model import LogisticRegression\n",
    "from sklearn.datasets import load_iris\n",
    "from sklearn.metrics import accuracy_score\n",
    "\n",
    "mlflow.set_experiment(\"my-experiment-1\")\n",
    "\n",
    "with mlflow.start_run():\n",
    "\n",
    "    X, y = load_iris(return_X_y=True)\n",
    "\n",
    "    params = {'C': 0.1, 'random_state': 42}\n",
    "    mlflow.log_params(params)\n",
    "\n",
    "    lr = LogisticRegression(**params).fit(X,y)\n",
    "    y_pred = lr.predict(X)\n",
    "    mlflow.log_metric(\"accuracy\", accuracy_score(y, y_pred))\n",
    "\n",
    "    mlflow.sklearn.log_model(lr, artifact_path=\"models\")\n",
    "    print(f\"get default artifacts URI: {mlflow.get_artifact_uri()}\")"
   ]
  },
  {
   "cell_type": "markdown",
   "id": "fe8e4228",
   "metadata": {},
   "source": [
    "Interacting with the Model Registry"
   ]
  },
  {
   "cell_type": "code",
   "execution_count": 34,
   "id": "678ebfd4",
   "metadata": {},
   "outputs": [],
   "source": [
    "from mlflow.tracking import MlflowClient\n",
    "\n",
    "client = MlflowClient(\"http://127.0.0.1:5000\")"
   ]
  },
  {
   "cell_type": "code",
   "execution_count": 35,
   "id": "4a113b9b",
   "metadata": {},
   "outputs": [
    {
     "data": {
      "text/plain": [
       "[]"
      ]
     },
     "execution_count": 35,
     "metadata": {},
     "output_type": "execute_result"
    }
   ],
   "source": [
    "client.list_registered_models()"
   ]
  },
  {
   "cell_type": "code",
   "execution_count": 36,
   "id": "5ad9213c",
   "metadata": {},
   "outputs": [
    {
     "data": {
      "text/plain": [
       "'577dc6a6d2f34986ad463966c3dbbb16'"
      ]
     },
     "execution_count": 36,
     "metadata": {},
     "output_type": "execute_result"
    }
   ],
   "source": [
    "run_id = mlflow.list_run_infos(experiment_id=\"1\")[0].run_id\n",
    "run_id"
   ]
  },
  {
   "cell_type": "code",
   "execution_count": 37,
   "id": "8d3c2497",
   "metadata": {},
   "outputs": [
    {
     "name": "stderr",
     "output_type": "stream",
     "text": [
      "Successfully registered model 'iris-classifier'.\n",
      "2025/09/16 21:38:07 INFO mlflow.tracking._model_registry.client: Waiting up to 300 seconds for model version to finish creation.                     Model name: iris-classifier, version 1\n",
      "Created version '1' of model 'iris-classifier'.\n"
     ]
    },
    {
     "data": {
      "text/plain": [
       "<ModelVersion: creation_timestamp=1758083887443, current_stage='None', description='', last_updated_timestamp=1758083887443, name='iris-classifier', run_id='577dc6a6d2f34986ad463966c3dbbb16', run_link='', source='./artifacts_local/1/577dc6a6d2f34986ad463966c3dbbb16/artifacts/models', status='READY', status_message='', tags={}, user_id='', version='1'>"
      ]
     },
     "execution_count": 37,
     "metadata": {},
     "output_type": "execute_result"
    }
   ],
   "source": [
    "mlflow.register_model(model_uri=f\"runs:/{run_id}/models\", name='iris-classifier')"
   ]
  },
  {
   "cell_type": "code",
   "execution_count": null,
   "id": "e52b0b22",
   "metadata": {},
   "outputs": [],
   "source": []
  },
  {
   "cell_type": "code",
   "execution_count": null,
   "id": "03f1882e",
   "metadata": {},
   "outputs": [],
   "source": []
  }
 ],
 "metadata": {
  "kernelspec": {
   "display_name": "exp-tracking",
   "language": "python",
   "name": "python3"
  },
  "language_info": {
   "codemirror_mode": {
    "name": "ipython",
    "version": 3
   },
   "file_extension": ".py",
   "mimetype": "text/x-python",
   "name": "python",
   "nbconvert_exporter": "python",
   "pygments_lexer": "ipython3",
   "version": "3.9.12"
  }
 },
 "nbformat": 4,
 "nbformat_minor": 5
}
