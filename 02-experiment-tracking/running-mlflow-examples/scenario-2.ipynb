{
 "cells": [
  {
   "cell_type": "markdown",
   "id": "34a1a523",
   "metadata": {},
   "source": [
    "# Scenario 2: A single data scientist participating in an ML competition\n",
    "\n",
    "MLFlow setup:\n",
    "- Tracking server: yes, local server\n",
    "- Backend store: sqlite database\n",
    "- Artifacts store: local filesystem\n",
    "\n",
    "The experiments can be explored locally by accessing the local tracking server\n",
    "\n",
    "To run this example you need to launch the mlflow server locally by running the following command in the terminal:\n",
    "\n",
    "mlflow server --backend-store-uri sqlite///:backend.db"
   ]
  },
  {
   "cell_type": "code",
   "execution_count": 2,
   "id": "580ee309",
   "metadata": {},
   "outputs": [],
   "source": [
    "import mlflow"
   ]
  },
  {
   "cell_type": "code",
   "execution_count": null,
   "id": "2a1a5ace",
   "metadata": {},
   "outputs": [],
   "source": []
  }
 ],
 "metadata": {
  "kernelspec": {
   "display_name": "exp-tracking",
   "language": "python",
   "name": "python3"
  },
  "language_info": {
   "codemirror_mode": {
    "name": "ipython",
    "version": 3
   },
   "file_extension": ".py",
   "mimetype": "text/x-python",
   "name": "python",
   "nbconvert_exporter": "python",
   "pygments_lexer": "ipython3",
   "version": "3.9.12"
  }
 },
 "nbformat": 4,
 "nbformat_minor": 5
}
