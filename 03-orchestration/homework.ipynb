{
 "cells": [
  {
   "cell_type": "markdown",
   "id": "b40e3f93",
   "metadata": {},
   "source": [
    "# Homework Section 3 - Orchestration\n"
   ]
  },
  {
   "cell_type": "markdown",
   "id": "c5a983da",
   "metadata": {},
   "source": [
    "### Problem 1"
   ]
  },
  {
   "cell_type": "markdown",
   "id": "6dca8c08",
   "metadata": {},
   "source": [
    "We need to put a .result() on any tasks that have multiple outputs. So, that will go on the train_model task."
   ]
  },
  {
   "cell_type": "markdown",
   "id": "a661760d",
   "metadata": {},
   "source": [
    "### Problem 2"
   ]
  },
  {
   "cell_type": "markdown",
   "id": "13911af7",
   "metadata": {},
   "source": [
    "It's 11.637 (A, or first option)"
   ]
  },
  {
   "cell_type": "markdown",
   "id": "7d16f67c",
   "metadata": {},
   "source": [
    "### Problem 3"
   ]
  },
  {
   "cell_type": "markdown",
   "id": "5dd4686d",
   "metadata": {},
   "source": [
    "It's 13,191 bytes (A, or first option)"
   ]
  },
  {
   "cell_type": "markdown",
   "id": "1d63c419",
   "metadata": {},
   "source": [
    "### Problem 4"
   ]
  },
  {
   "cell_type": "markdown",
   "id": "997db6e5",
   "metadata": {},
   "source": [
    "It's 0 9 15 * * (C, or third option)"
   ]
  },
  {
   "cell_type": "markdown",
   "id": "ff3fb83e",
   "metadata": {},
   "source": [
    "### Problem 5"
   ]
  },
  {
   "cell_type": "markdown",
   "id": "8c6093a5",
   "metadata": {},
   "source": [
    "It's 3 (B, or second option)"
   ]
  },
  {
   "cell_type": "markdown",
   "id": "b9d1399b",
   "metadata": {},
   "source": [
    "### Problem 6"
   ]
  },
  {
   "cell_type": "markdown",
   "id": "2861aaf8",
   "metadata": {},
   "source": [
    "It's `prefect work-queue ls` (B, or second option)"
   ]
  },
  {
   "cell_type": "markdown",
   "id": "00506b80",
   "metadata": {},
   "source": []
  }
 ],
 "metadata": {
  "kernelspec": {
   "display_name": "exp-tracking",
   "language": "python",
   "name": "python3"
  },
  "language_info": {
   "codemirror_mode": {
    "name": "ipython",
    "version": 3
   },
   "file_extension": ".py",
   "mimetype": "text/x-python",
   "name": "python",
   "nbconvert_exporter": "python",
   "pygments_lexer": "ipython3",
   "version": "3.9.12"
  }
 },
 "nbformat": 4,
 "nbformat_minor": 5
}
